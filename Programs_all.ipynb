{
 "cells": [
  {
   "cell_type": "code",
   "execution_count": 1,
   "id": "ccb69355-55dd-41dc-9c85-6d0f700b71bb",
   "metadata": {},
   "outputs": [
    {
     "name": "stdout",
     "output_type": "stream",
     "text": [
      "Steps:\n",
      "0 0\n",
      "4 0\n",
      "4 3\n",
      "0 3\n",
      "3 0\n",
      "3 3\n",
      "4 2\n",
      "0 2\n"
     ]
    },
    {
     "data": {
      "text/plain": [
       "True"
      ]
     },
     "execution_count": 1,
     "metadata": {},
     "output_type": "execute_result"
    }
   ],
   "source": [
    "'''\n",
    "Experiment 1\n",
    "'''\n",
    "from collections import defaultdict\n",
    "\n",
    "jug1, jug2, aim = 4, 3, 2\n",
    "visited = defaultdict(lambda: False)\n",
    "\n",
    "def waterJugSolverDFS(amt1, amt2):\n",
    "    if (amt1 == aim and amt2 == 0) or (amt2 == aim and amt1 == 0):\n",
    "        print(amt1, amt2)\n",
    "        return True\n",
    "    \n",
    "    visited[(amt1, amt2)] = True\n",
    "    print(amt1, amt2)\n",
    "    \n",
    "    if not visited[(0, amt2)] and waterJugSolverDFS(0, amt2):\n",
    "        return True\n",
    "    if not visited[(amt1, 0)] and waterJugSolverDFS(amt1, 0):\n",
    "        return True\n",
    "    if not visited[(jug1, amt2)] and waterJugSolverDFS(jug1, amt2):\n",
    "        return True\n",
    "    if not visited[(amt1, jug2)] and waterJugSolverDFS(amt1, jug2):\n",
    "        return True\n",
    "        \n",
    "    pour_amt = min(amt1, jug2 - amt2)\n",
    "    if not visited[(amt1 - pour_amt, amt2 + pour_amt)] and waterJugSolverDFS(amt1 - pour_amt, amt2 + pour_amt):\n",
    "        return True\n",
    "        \n",
    "    pour_amt = min(amt2, jug1 - amt1)\n",
    "    if not visited[(amt1 + pour_amt, amt2 - pour_amt)] and waterJugSolverDFS(amt1 + pour_amt, amt2 - pour_amt):\n",
    "        return True\n",
    "        \n",
    "    return False\n",
    "\n",
    "print(\"Steps:\")\n",
    "waterJugSolverDFS(0, 0)"
   ]
  },
  {
   "cell_type": "code",
   "execution_count": 3,
   "id": "c539651f-78e8-49c4-9528-6e724ab807b9",
   "metadata": {},
   "outputs": [
    {
     "name": "stdout",
     "output_type": "stream",
     "text": [
      "Solution found with 11 steps:\n",
      "Step 1 : {'left': (3, 1), 'right': (0, 2), 'boat': 'right'}\n",
      "Step 2 : {'left': (3, 2), 'right': (0, 1), 'boat': 'left'}\n",
      "Step 3 : {'left': (3, 0), 'right': (0, 3), 'boat': 'right'}\n",
      "Step 4 : {'left': (3, 1), 'right': (0, 2), 'boat': 'left'}\n",
      "Step 5 : {'left': (1, 1), 'right': (2, 2), 'boat': 'right'}\n",
      "Step 6 : {'left': (2, 2), 'right': (1, 1), 'boat': 'left'}\n",
      "Step 7 : {'left': (0, 2), 'right': (3, 1), 'boat': 'right'}\n",
      "Step 8 : {'left': (0, 3), 'right': (3, 0), 'boat': 'left'}\n",
      "Step 9 : {'left': (0, 1), 'right': (3, 2), 'boat': 'right'}\n",
      "Step 10 : {'left': (0, 2), 'right': (3, 1), 'boat': 'left'}\n",
      "Step 11 : {'left': (0, 0), 'right': (3, 3), 'boat': 'right'}\n"
     ]
    }
   ],
   "source": [
    "'''\n",
    "Experiment 2\n",
    "'''\n",
    "from collections import deque\n",
    "\n",
    "initial_state = {'left': (3, 3), 'right': (0, 0), 'boat': 'left'}\n",
    "goal_state = {'left': (0, 0), 'right': (3, 3), 'boat': 'right'}\n",
    "\n",
    "def is_valid(state):\n",
    "    left_m, left_c = state['left']\n",
    "    right_m, right_c = state['right']\n",
    "    if left_m < 0 or left_c < 0 or right_m < 0 or right_c < 0:\n",
    "        return False\n",
    "    if left_m > 3 or left_c > 3 or right_m > 3 or right_c > 3:\n",
    "        return False\n",
    "    if left_m < left_c and left_m > 0:\n",
    "        return False\n",
    "    if right_m < right_c and right_m > 0:\n",
    "        return False\n",
    "    return True\n",
    "\n",
    "def generate_next_states(current_state):\n",
    "    next_states = []\n",
    "    for i in range(3):\n",
    "        for j in range(3):\n",
    "            if i + j > 2 or i + j == 0:\n",
    "                continue\n",
    "            if current_state['boat'] == 'left':\n",
    "                new_state = {\n",
    "                    'left': (current_state['left'][0] - i, current_state['left'][1] - j),\n",
    "                    'right': (current_state['right'][0] + i, current_state['right'][1] + j),\n",
    "                    'boat': 'right'\n",
    "                }\n",
    "            else:\n",
    "                new_state = {\n",
    "                    'left': (current_state['left'][0] + i, current_state['left'][1] + j),\n",
    "                    'right': (current_state['right'][0] - i, current_state['right'][1] - j),\n",
    "                    'boat': 'left'\n",
    "                }\n",
    "            if is_valid(new_state):\n",
    "                next_states.append(new_state)\n",
    "    return next_states\n",
    "\n",
    "def bfs(initial_state, goal_state):\n",
    "    visited = set()\n",
    "    queue = deque([(initial_state, [])])\n",
    "\n",
    "    while queue:\n",
    "        current_state, path = queue.popleft()\n",
    "        if current_state == goal_state:\n",
    "            return path\n",
    "        if tuple(current_state['left'] + current_state['right'] + (current_state['boat'],)) in visited:\n",
    "            continue\n",
    "        visited.add(tuple(current_state['left'] + current_state['right'] + (current_state['boat'],)))\n",
    "        for next_state in generate_next_states(current_state):\n",
    "            queue.append((next_state, path + [next_state]))\n",
    "\n",
    "    return None\n",
    "\n",
    "solution = bfs(initial_state, goal_state)\n",
    "\n",
    "if solution:\n",
    "    print(\"Solution found with\", len(solution), \"steps:\")\n",
    "    for i, state in enumerate(solution):\n",
    "        print(\"Step\", i + 1, \":\", state)\n",
    "else:\n",
    "    print(\"No solution found.\")"
   ]
  },
  {
   "cell_type": "code",
   "execution_count": 5,
   "id": "601f381a-c157-4dc4-9bc6-d77290c3d248",
   "metadata": {},
   "outputs": [
    {
     "name": "stdout",
     "output_type": "stream",
     "text": [
      "Path found: ['A', 'F', 'G', 'I', 'J']\n"
     ]
    },
    {
     "data": {
      "text/plain": [
       "['A', 'F', 'G', 'I', 'J']"
      ]
     },
     "execution_count": 5,
     "metadata": {},
     "output_type": "execute_result"
    }
   ],
   "source": [
    "'''\n",
    "Experiment 3\n",
    "'''\n",
    "def aStarAlgo(start_node, stop_node):\n",
    "    open_set = set(start_node)\n",
    "    closed_set = set()\n",
    "    g = {}               \n",
    "    parents = {}         \n",
    "    g[start_node] = 0\n",
    "    parents[start_node] = start_node\n",
    "    \n",
    "    while len(open_set) > 0:\n",
    "        n = None\n",
    "        for v in open_set:\n",
    "            if n == None or g[v] + heuristic(v) < g[n] + heuristic(n):\n",
    "                n = v\n",
    "                \n",
    "        if n == stop_node or Graph_nodes[n] == None:\n",
    "            pass\n",
    "        else:\n",
    "            for (m, weight) in get_neighbors(n):\n",
    "                if m not in open_set and m not in closed_set:\n",
    "                    open_set.add(m)\n",
    "                    parents[m] = n\n",
    "                    g[m] = g[n] + weight\n",
    "                else:\n",
    "                    if g[m] > g[n] + weight:\n",
    "                        g[m] = g[n] + weight\n",
    "                        parents[m] = n\n",
    "                        if m in closed_set:\n",
    "                            closed_set.remove(m)\n",
    "                            open_set.add(m)\n",
    "                            \n",
    "        if n == None:\n",
    "            print('Path does not exist!')\n",
    "            return None\n",
    "            \n",
    "        if n == stop_node:\n",
    "            path = []\n",
    "            while parents[n] != n:\n",
    "                path.append(n)\n",
    "                n = parents[n]\n",
    "            path.append(start_node)\n",
    "            path.reverse()\n",
    "            print('Path found: {}'.format(path))\n",
    "            return path\n",
    "            \n",
    "        open_set.remove(n)\n",
    "        closed_set.add(n)\n",
    "        \n",
    "    print('Path does not exist!')\n",
    "    return None\n",
    "\n",
    "def get_neighbors(v):\n",
    "    if v in Graph_nodes:\n",
    "        return Graph_nodes[v]\n",
    "    else:\n",
    "        return None\n",
    "\n",
    "def heuristic(n):\n",
    "    H_dist = {\n",
    "        'A': 11,\n",
    "        'B': 6,\n",
    "        'C': 5,\n",
    "        'D': 7,\n",
    "        'E': 3,\n",
    "        'F': 6,\n",
    "        'G': 5,\n",
    "        'H': 3,\n",
    "        'I': 1,\n",
    "        'J': 0\n",
    "    }\n",
    "    return H_dist[n]\n",
    "\n",
    "Graph_nodes = {\n",
    "    'A': [('B', 6), ('F', 3)],\n",
    "    'B': [('A', 6), ('C', 3), ('D', 2)],\n",
    "    'C': [('B', 3), ('D', 1), ('E', 5)],\n",
    "    'D': [('B', 2), ('C', 1), ('E', 8)],\n",
    "    'E': [('C', 5), ('D', 8), ('I', 5), ('J', 5)],\n",
    "    'F': [('A', 3), ('G', 1), ('H', 7)],\n",
    "    'G': [('F', 1), ('I', 3)],\n",
    "    'H': [('F', 7), ('I', 2)],\n",
    "    'I': [('E', 5), ('G', 3), ('H', 2), ('J', 3)],\n",
    "}\n",
    "\n",
    "aStarAlgo('A', 'J')"
   ]
  },
  {
   "cell_type": "code",
   "execution_count": 7,
   "id": "efca3bbe-119d-403c-8db5-9208978357a9",
   "metadata": {},
   "outputs": [
    {
     "name": "stdout",
     "output_type": "stream",
     "text": [
      "Updated Cost:\n",
      "Shortest Path :\n",
      " A<--(C AND D) [C<--(H AND I) [H + I] + D<--(J)]\n"
     ]
    }
   ],
   "source": [
    "'''\n",
    "Experiment 4\n",
    "'''\n",
    "def Cost(H, condition, weight=1):\n",
    "    cost = {}\n",
    "    if 'AND' in condition:\n",
    "        AND_nodes = condition['AND']\n",
    "        Path_A = ' AND '.join(AND_nodes)\n",
    "        PathA = sum(H[node] + weight for node in AND_nodes)\n",
    "        cost[Path_A] = PathA\n",
    "        \n",
    "    if 'OR' in condition:\n",
    "        OR_nodes = condition['OR']\n",
    "        Path_B = ' OR '.join(OR_nodes)\n",
    "        PathB = min(H[node] + weight for node in OR_nodes)\n",
    "        cost[Path_B] = PathB\n",
    "    return cost\n",
    "\n",
    "\n",
    "def update_cost(H, Conditions, weight=1):\n",
    "    Main_nodes = list(Conditions.keys())\n",
    "    Main_nodes.reverse()\n",
    "    least_cost = {}\n",
    "    for key in Main_nodes:\n",
    "        condition = Conditions[key]\n",
    "        c = Cost(H, condition, weight)\n",
    "        H[key] = min(c.values())\n",
    "        least_cost[key] = Cost(H, condition, weight)\n",
    "    return least_cost\n",
    "\n",
    "\n",
    "def shortest_path(Start, Updated_cost, H):\n",
    "    Path = Start\n",
    "    if Start in Updated_cost.keys():\n",
    "        Min_cost = min(Updated_cost[Start].values())\n",
    "        key = list(Updated_cost[Start].keys())\n",
    "        values = list(Updated_cost[Start].values())\n",
    "        Index = values.index(Min_cost)\n",
    "        \n",
    "        Next = key[Index].split()\n",
    "        if 'AND' in key[Index]:\n",
    "            Path += '<--(' + key[Index] + ')'\n",
    "            nodes = key[Index].split(' AND ')\n",
    "            Path += ' ['\n",
    "            for i, node in enumerate(nodes):\n",
    "                if i > 0:\n",
    "                    Path += ' + '\n",
    "                Path += shortest_path(node, Updated_cost, H)\n",
    "            Path += ']'\n",
    "        elif 'OR' in key[Index]:\n",
    "            Path += '<--(' + key[Index] + ')'\n",
    "            nodes = key[Index].split(' OR ')\n",
    "            for node in nodes:\n",
    "                Path += shortest_path(node, Updated_cost, H)\n",
    "        else:\n",
    "            if len(Next) == 1:\n",
    "                Start = Next[0]\n",
    "                Path += '<--(' + shortest_path(Start, Updated_cost, H) + ')'\n",
    "    return Path\n",
    "\n",
    "\n",
    "H = {'A': -1, 'B': 5, 'C': 2, 'D': 4, 'E': 7, 'F': 9, 'G': 3, 'H': 0, 'I': 0, 'J': 0}\n",
    "Conditions = {\n",
    "    'A': {'OR': ['B'], 'AND': ['C', 'D']},\n",
    "    'B': {'OR': ['E', 'F']},\n",
    "    'C': {'OR': ['G'], 'AND': ['H', 'I']},\n",
    "    'D': {'OR': ['J']},\n",
    "}\n",
    "weight = 1\n",
    "print(\"Updated Cost:\")\n",
    "Updated_cost = update_cost(H, Conditions, weight)\n",
    "print(\"Shortest Path :\\n\", shortest_path('A', Updated_cost, H))"
   ]
  },
  {
   "cell_type": "code",
   "execution_count": 11,
   "id": "cfa384d0-b6db-4bfd-bdfd-925f276a4b6d",
   "metadata": {},
   "outputs": [
    {
     "name": "stdin",
     "output_type": "stream",
     "text": [
      "Enter the number of queens: 8\n"
     ]
    },
    {
     "name": "stdout",
     "output_type": "stream",
     "text": [
      "[1, 0, 0, 0, 0, 0, 0, 0]\n",
      "[0, 0, 0, 0, 1, 0, 0, 0]\n",
      "[0, 0, 0, 0, 0, 0, 0, 1]\n",
      "[0, 0, 0, 0, 0, 1, 0, 0]\n",
      "[0, 0, 1, 0, 0, 0, 0, 0]\n",
      "[0, 0, 0, 0, 0, 0, 1, 0]\n",
      "[0, 1, 0, 0, 0, 0, 0, 0]\n",
      "[0, 0, 0, 1, 0, 0, 0, 0]\n"
     ]
    }
   ],
   "source": [
    "'''\n",
    "Experiment 5\n",
    "'''\n",
    "N=int(input(\"Enter the number of queens:\"))\n",
    "\n",
    "board=[[0]*N for _ in range(N)]\n",
    "def attack(i,j):\n",
    "    for k in range(0,N):\n",
    "        if board[i][k]==1 or board[k][j]==1:\n",
    "            return True\n",
    "    for k in range(0,N):\n",
    "        for l in range(0,N):\n",
    "            if (k+l==i+j) or (k-l==i-j): \n",
    "                if board[k][l]==1:\n",
    "                    return True\n",
    "    return False\n",
    "    \n",
    "def N_queens(n):\n",
    "    if n==0:\n",
    "        return True\n",
    "    for i in range(0,N):\n",
    "        for j in range(0,N):\n",
    "            if (not(attack(i,j)))and (board[i][j]!=1):\n",
    "                board[i][j]=1\n",
    "                if N_queens(n-1)==True:\n",
    "                    return True\n",
    "                board[i][j]=0\n",
    "    return False\n",
    "\n",
    "N_queens(N)\n",
    "for i in board:\n",
    "    print(i)"
   ]
  },
  {
   "cell_type": "code",
   "execution_count": 13,
   "id": "92a057ad-ca8c-46f5-92a0-1df5cc586ed5",
   "metadata": {},
   "outputs": [
    {
     "name": "stdout",
     "output_type": "stream",
     "text": [
      "Neqrest Neighbour TSP solution:\n",
      "Tour: [0, 0, 1, 3, 2, 0] \n",
      "Total Distance: 80\n"
     ]
    }
   ],
   "source": [
    "'''\n",
    "Experiment 6\n",
    "'''\n",
    "def nearest_neighbour(distance):\n",
    "    num_cities=len(distance)\n",
    "    unvisited_cities=list(range(num_cities))\n",
    "    current_city=0\n",
    "    tour=[current_city]\n",
    "    total_distance=0\n",
    "    while unvisited_cities:\n",
    "        nearest_city=min(unvisited_cities,key=lambda city:distance[current_city][city])\n",
    "        total_distance+=distance[current_city][nearest_city]\n",
    "        current_city=nearest_city\n",
    "        unvisited_cities.remove(nearest_city)\n",
    "        tour.append(current_city)\n",
    "    total_distance+=distance[current_city][tour[0]]\n",
    "    tour.append(0)\n",
    "    return tour, total_distance\n",
    "\n",
    "\n",
    "distance=[\n",
    "    [0, 10, 15, 20],\n",
    "    [10, 0, 35, 25],\n",
    "    [15, 35, 0, 30],\n",
    "    [20, 25, 30, 0]\n",
    "]\n",
    "\n",
    "tour, total_distance = nearest_neighbour(distance)\n",
    "print(\"Neqrest Neighbour TSP solution:\")\n",
    "print(\"Tour:\",tour,\"\\nTotal Distance:\",total_distance)\n"
   ]
  },
  {
   "cell_type": "code",
   "execution_count": 1,
   "id": "3d02fea7-ae09-44a1-929a-d329d18626ae",
   "metadata": {},
   "outputs": [
    {
     "name": "stdout",
     "output_type": "stream",
     "text": [
      "Forward Chaining\n",
      " X is \n",
      "1..Croaks \n",
      "2.Eat Flies \n",
      "3.shrimps \n",
      "4.Sings \n",
      " Select One "
     ]
    },
    {
     "name": "stdin",
     "output_type": "stream",
     "text": [
      " 1\n"
     ]
    },
    {
     "name": "stdout",
     "output_type": "stream",
     "text": [
      " \n",
      " Chance Of Frog In X is Croaks\n",
      "Color Is 1.Green 2.Yellow\n",
      " Select Option "
     ]
    },
    {
     "name": "stdin",
     "output_type": "stream",
     "text": [
      " 1\n"
     ]
    },
    {
     "name": "stdout",
     "output_type": "stream",
     "text": [
      " yes it is Frog And Color Is Green\n",
      "Backward--Chaining\n",
      " In X is In \n",
      "1.frog \n",
      "2.canary\n",
      " Select One "
     ]
    },
    {
     "name": "stdin",
     "output_type": "stream",
     "text": [
      " 1\n"
     ]
    },
    {
     "name": "stdout",
     "output_type": "stream",
     "text": [
      " \n",
      " Chance Of eating flies \n",
      " X is Frog\n",
      "1 green \n",
      "2.yellow\n"
     ]
    },
    {
     "name": "stdin",
     "output_type": "stream",
     "text": [
      " 1\n"
     ]
    },
    {
     "name": "stdout",
     "output_type": "stream",
     "text": [
      " yes it is in Green colour and will Croaks\n"
     ]
    }
   ],
   "source": [
    "'''\n",
    "Experiment 7\n",
    "Forward Chaining\n",
    "'''\n",
    "\n",
    "database = [\"Croaks\", \"Eat Flies\", \"Shrimps\", \"Sings\"]\n",
    "knowbase = [\"Frog\", \"Canary\", \"Green\", \"Yellow\"]\n",
    "\n",
    "def display():\n",
    "    print(\"\\n X is \\n1..Croaks \\n2.Eat Flies \\n3.shrimps \\n4.Sings \", end='')\n",
    "    print(\"\\n Select One \", end='')\n",
    "\n",
    "def main():\n",
    "    print(\"Forward Chaining\", end='')\n",
    "    display()\n",
    "    x = int(input())\n",
    "    print(\" \\n\", end='')\n",
    "    if x == 1 or x == 2:\n",
    "        print(\" Chance Of Frog \", end='')\n",
    "    elif x == 3 or x == 4:\n",
    "        print(\" Chance of Canary \", end='')\n",
    "    else:\n",
    "        print(\"Invalid\", end='')\n",
    "    if x >= 1 and x <= 4:\n",
    "        print(\"In X is \", end='')\n",
    "        print(database[x-1], end='')\n",
    "    print(\"\\nColor Is 1.Green 2.Yellow\", end='')\n",
    "    print(\"\\n Select Option \", end='')\n",
    "    k = int(input())\n",
    "    if k == 1 and (x == 1 or x == 2):\n",
    "        print(\" yes it is \", end='')\n",
    "        print(knowbase[0], end='')\n",
    "        print(\" And Color Is \", end='')\n",
    "        print(knowbase[2], end='')\n",
    "    elif k == 2 and (x == 3 or x == 4):\n",
    "        print(\" yes it is \", end='')\n",
    "        print(knowbase[1], end='')\n",
    "        print(\" And Color Is \", end='')\n",
    "        print(knowbase[3], end='')\n",
    "    else:\n",
    "        print(\"Invalid Knowledgebase\", end='')\n",
    "\n",
    "if __name__ == \"__main__\":\n",
    "    main()\n",
    "\n",
    "\n",
    "'''\n",
    "Backward Chaining\n",
    "'''\n",
    "\n",
    "database = [\"Croaks\", \"Eat Flies\", \"Shrimps\", \"Sings\"]\n",
    "knowbase = [\"Frog\", \"Canary\"]\n",
    "color = [\"Green\", \"Yellow\"]\n",
    "\n",
    "def display():\n",
    "    print(\"\\n In X is In \\n1.frog \\n2.canary\", end='')\n",
    "    print(\"\\n Select One \", end='')\n",
    "\n",
    "def main():\n",
    "    print(\"\\nBackward--Chaining\", end='')\n",
    "    display()\n",
    "    x = int(input())\n",
    "    print(\" \\n\", end='')\n",
    "    if x == 1:\n",
    "        print(\" Chance Of eating flies \", end='')\n",
    "    elif x == 2:\n",
    "        print(\" Chance of shrimping \", end='')\n",
    "    else:\n",
    "        print(\"Select Option\", end='')\n",
    "    if x >= 1 and x <= 2:\n",
    "        print(\"\\n X is \", end='')\n",
    "        print(knowbase[x-1], end='')\n",
    "        print(\"\\n1 green \\n2.yellow\")\n",
    "        k = int(input())\n",
    "        if k == 1 and x == 1: # frog® and green1\n",
    "            print(\" yes it is in \", end='')\n",
    "            print(color[0], end='')\n",
    "            print(\" colour and will \", end='')\n",
    "            print(database[0])\n",
    "        elif k == 2 and x == 2: # canary1 and yelLow3\n",
    "            print(\" yes it is in\", end='')\n",
    "            print(color[1], end='')\n",
    "            print(\" Colour and will \", end='')\n",
    "            print(database[1])\n",
    "        else:\n",
    "            print(\"\\nInvalid Knowledgebase\", end='')\n",
    "\n",
    "if __name__ == \"__main__\":\n",
    "    main()"
   ]
  },
  {
   "cell_type": "code",
   "execution_count": 3,
   "id": "c03700a9-fb3d-455f-ac28-ecd4ee5bc418",
   "metadata": {},
   "outputs": [
    {
     "name": "stdout",
     "output_type": "stream",
     "text": [
      "Player 1[X] --- Player 2[O]\n",
      "\n",
      "\n",
      "\n",
      "Please wait...\n",
      "\u001b[H\u001b[2J   |   |   \n",
      "___|___|___\n",
      "   |   |  \n",
      "___|___|___\n",
      "   |   |   \n",
      "Player 1's chance\n"
     ]
    },
    {
     "name": "stdin",
     "output_type": "stream",
     "text": [
      "Enter the position between[1-9]where you want to mark:  1\n"
     ]
    },
    {
     "name": "stdout",
     "output_type": "stream",
     "text": [
      "\u001b[H\u001b[2J X |   |   \n",
      "___|___|___\n",
      "   |   |  \n",
      "___|___|___\n",
      "   |   |   \n",
      "\u001b[H\u001b[2J X |   |   \n",
      "___|___|___\n",
      "   |   |  \n",
      "___|___|___\n",
      "   |   |   \n",
      "Player 2's chance\n"
     ]
    },
    {
     "name": "stdin",
     "output_type": "stream",
     "text": [
      "Enter the position between[1-9]where you want to mark:  2\n"
     ]
    },
    {
     "name": "stdout",
     "output_type": "stream",
     "text": [
      "\u001b[H\u001b[2J X | O |   \n",
      "___|___|___\n",
      "   |   |  \n",
      "___|___|___\n",
      "   |   |   \n",
      "\u001b[H\u001b[2J X | O |   \n",
      "___|___|___\n",
      "   |   |  \n",
      "___|___|___\n",
      "   |   |   \n",
      "Player 1's chance\n"
     ]
    },
    {
     "name": "stdin",
     "output_type": "stream",
     "text": [
      "Enter the position between[1-9]where you want to mark:  4\n"
     ]
    },
    {
     "name": "stdout",
     "output_type": "stream",
     "text": [
      "\u001b[H\u001b[2J X | O |   \n",
      "___|___|___\n",
      " X |   |  \n",
      "___|___|___\n",
      "   |   |   \n",
      "\u001b[H\u001b[2J X | O |   \n",
      "___|___|___\n",
      " X |   |  \n",
      "___|___|___\n",
      "   |   |   \n",
      "Player 2's chance\n"
     ]
    },
    {
     "name": "stdin",
     "output_type": "stream",
     "text": [
      "Enter the position between[1-9]where you want to mark:  5\n"
     ]
    },
    {
     "name": "stdout",
     "output_type": "stream",
     "text": [
      "\u001b[H\u001b[2J X | O |   \n",
      "___|___|___\n",
      " X | O |  \n",
      "___|___|___\n",
      "   |   |   \n",
      "\u001b[H\u001b[2J X | O |   \n",
      "___|___|___\n",
      " X | O |  \n",
      "___|___|___\n",
      "   |   |   \n",
      "Player 1's chance\n"
     ]
    },
    {
     "name": "stdin",
     "output_type": "stream",
     "text": [
      "Enter the position between[1-9]where you want to mark:  7\n"
     ]
    },
    {
     "name": "stdout",
     "output_type": "stream",
     "text": [
      "\u001b[H\u001b[2J X | O |   \n",
      "___|___|___\n",
      " X | O |  \n",
      "___|___|___\n",
      " X |   |   \n",
      "Player 1 wins!\n"
     ]
    }
   ],
   "source": [
    "'''\n",
    "Experiment_6\n",
    "'''\n",
    "\n",
    "import os\n",
    "import time \n",
    "\n",
    "player=1\n",
    "Win=1\n",
    "Stop=1\n",
    "Draw=-1\n",
    "Running=0\n",
    "Game=Running\n",
    "Mark='X'\n",
    "board=[' ',' ',' ',' ',' ',' ',' ',' ',' ',' ']\n",
    "'''draw the board'''\n",
    "def DrawBoard():\n",
    "    print(\" %c | %c | %c \"%(board[1],board[2],board[3]))\n",
    "    lines()\n",
    "    print(\" %c | %c | %c\"%(board[4],board[5],board[6]))\n",
    "    lines()\n",
    "    print(\" %c | %c | %c \"%(board[7],board[8],board[9]))\n",
    "def lines():\n",
    "    print(\"___|___|___\")\n",
    "\n",
    "def CheckPosition(x):\n",
    "    if board[x]==' ':\n",
    "        return True\n",
    "    else:\n",
    "        return False\n",
    "    \n",
    "def CheckWin():\n",
    "    global Game\n",
    "    if board[1]==board[2] and board[2]==board[3] and board[1]!=' ':\n",
    "        Game=Win\n",
    "    elif board[4]==board[5] and board[5]==board[6] and board[4]!=' ':\n",
    "        Game=Win\n",
    "    elif board[7]==board[8] and board[8]==board[9] and board[7]!=' ':\n",
    "        Game=Win\n",
    "    elif board[1]==board[4] and board[4]==board[7] and board[1]!=' ':\n",
    "        Game=Win\n",
    "    elif board[2]==board[5] and board[5]==board[8] and board[2]!=' ':\n",
    "        Game=Win\n",
    "    elif board[3]==board[6] and board[6]==board[9] and board[3]!=' ':\n",
    "        Game=Win\n",
    "    elif board[1]==board[5] and board[5]==board[9] and board[1]!=' ':\n",
    "        Game=Win\n",
    "    elif board[3]==board[5] and board[5]==board[7] and board[3]!=' ':\n",
    "        Game=Win\n",
    "    elif board[1]!=' ' and board[2]!=' ' and board[3]!=' ' and board[4]!=' ' and board[5]!=' ' and board[6]!=' ' and board[7]!=' ' and board[8]!=' ' and board[9]!=' ':\n",
    "        Game=Draw\n",
    "    else:\n",
    "        Game=Running\n",
    "\n",
    "print (\"Player 1[X] --- Player 2[O]\\n\\n\\n\")\n",
    "print(\"Please wait...\")\n",
    "time.sleep(2)\n",
    "while Game==Running:\n",
    "    os.system('clear')\n",
    "    DrawBoard()\n",
    "    if player%2!=0:\n",
    "        print(\"Player 1's chance\")\n",
    "        Mark='X'\n",
    "    else:\n",
    "        print(\"Player 2's chance\")\n",
    "        Mark='O'\n",
    "    choice=int(input(\"Enter the position between[1-9]where you want to mark: \"))\n",
    "    if CheckPosition(choice):\n",
    "        board[choice]=Mark\n",
    "        player+=1\n",
    "        CheckWin()\n",
    "        \n",
    "    os.system('clear')\n",
    "    DrawBoard()\n",
    "    if Game==Draw:\n",
    "        print(\"Game Draw!\")\n",
    "    elif Game==Win:\n",
    "        player -=1\n",
    "        if player%2!=0:\n",
    "            print(\"Player 1 wins!\")\n",
    "        else:\n",
    "            print(\"Player 2 wins!\")"
   ]
  },
  {
   "cell_type": "code",
   "execution_count": null,
   "id": "565688ca-3817-4669-a5c5-d87f9cb86ddf",
   "metadata": {},
   "outputs": [
    {
     "name": "stdout",
     "output_type": "stream",
     "text": [
      "Welcome to the Information Text Bot\n"
     ]
    },
    {
     "name": "stdin",
     "output_type": "stream",
     "text": [
      "Please enter a topic to search for (or type 'exit' to quit):  GJ 1214 b\n"
     ]
    },
    {
     "name": "stdout",
     "output_type": "stream",
     "text": [
      "GJ 1214 bは、へびつかい座の方向に約42光年離れた位置にある恒星GJ 1214を公転している太陽系外惑星で、2009年12月に発見された。2017年現在、GJ 1214 bは海洋惑星である可能性が最も高い候補である[2][7]。そのため、科学者たちはGJ 1214 bをThe waterworldと呼んだ[8]。\n",
      "\n",
      "GJ 1214 bは、木星型惑星よりも半径や質量が有意に小さい惑星、スーパーアースであることが確認された系外惑星としては、CoRoT-7bに続き二例目である。この星は地球に似ている点と、21世紀初頭の技術を使って惑星が恒星の前を通過する様子を観測し、惑星の大気を研究できるという事実が意義深い[2]。\n",
      "\n",
      "GJ 1214 bは、軌道上の惑星が恒星の前を通過する際、わずかに暗くなる恒星の明るさの変化を検出するMEarthプロジェクトによって発見された。2009年の初めに、MEarthプロジェクトの天文学者達は、恒星GJ 1214がわずかに暗くなる事を発見した。さらなる観測によって、GJ 1214が約1.58日周期に明るさが約1.5%、暗くなっている事が判明した。その後、チリのラ・シヤ天文台にあるヨーロッパ南天天文台(ESO)の口径3.6メートルを持つ高精度視線速度系外惑星探査装置(HARPS)のスペクトログラフを用いて、ドップラー分光法による観測を行った。これらの観測によって、惑星GJ 1214 bの存在が確定した。その後、雑誌ネイチャーにて、その発見論文が発表された[2]。\n",
      "\n",
      "GJ 1214 bの半径は、惑星が地球から見て恒星の前を通過する際の、恒星の減光割合から推測する事が出来る。質量は、恒星のドップラー効果によってスペクトルに生じる視線速度の変化から推測する事が出来る[2]。質量と半径から、密度を求める事も出来る。理論的モデルとの比較を通じて、密度は惑星の組成や構造などの限られた情報しか得られないが、これは惑星の素性を知るうえで重要な情報となる[2]。\n",
      "\n",
      "\n",
      "温度はおよそ393-555K（摂氏120-282度）であり、2009年までにトランジット法で発見されたどの惑星よりも温度が低い可能性がある[9]。温度の範囲は惑星の反射率に依存し、555Kは反射能0の時の上限であり、393Kは反射能が0.75で金星と類似している場合の想定である[2]。\n",
      "\n",
      "惑星の質量と半径は一般的な海洋惑星の構造と一致し、水（～75%）と岩石（～25%）で構成されている。また惑星の質量の0.005%を占める水素とヘリウムの大気によって覆われていると考えられている。いくらかの水は水圧によって氷VIIの形態で存在している[9]。\n",
      "\n",
      "惑星の通過はMEarthプロジェクトにおいてロボット制御のリッチー・クレチアン式 40 cm (16 in) 望遠鏡と市販されているカメラを使用して発見された[10]。\n",
      "\n",
      "GJ 1214 bは、恒星が比較的小型のため、恒星面を通過中に分光観測を行う事が出来る。通過前と通過中に観測されたスペクトルを比較する事により、惑星の大気のスペクトルを推定する事が出来る。2010年12月には波長が750～1000nmには大きな特徴がない事を示す研究が発表された。木星型惑星のような、分厚い水素などで覆われた大気が表す特性が見られなかったため、大気は分厚い水素の層では構成されていないとされている。観測の結果、水蒸気や他の物質の明解な兆候は得られなかったが、天文学者達は、GJ 1214 bは主に水蒸気から成る大気を持っていると推測している。\n",
      "\n",
      "老齢と推定される惑星系の流体力学的な散逸度合が9×105kg/sである事から、発見者のシャルボノー等は、惑星は生涯を通じて重大な大気の喪失を続け、現状の大気がどんなものであれ原始の性質を留めていることはないとしている[2]。\n",
      "\n",
      "2010年、ヨーロッパ南天天文台はGJ 1214 bの大気を観測した[11]。これはスーパーアースの大気が分析された最初の例である[11]。観測前までGJ 1214bは雲のない透明な水素の大気を持つと予想されていたが、観測結果は分厚い雲に覆われた水素の大気か、あるいは高温高圧の水蒸気の大気であることを示していた[11] 。さらに2012年にはハッブル宇宙望遠鏡の観測に基づいた研究で、GJ 1214 bが水蒸気の大気で覆われていることが確認された[12]。\n",
      "\n",
      "2022年、ジェイムズ・ウェッブ宇宙望遠鏡の優先観測目標候補となっている太陽系外惑星のうち、20の惑星とその親星を公募により命名する「太陽系外惑星命名キャンペーン2022（NameExoWorlds 2022）」において、GJ 1214とGJ 1214 bは命名対象の惑星系の1つとなった[13][14]。このキャンペーンは、国際天文学連合（IAU）が「持続可能な発展のための国際基礎科学年（英語版）（IYBSSD2022）」の参加機関の一つであることから企画されたものである[15]。2023年6月、IAUから最終結果が公表され、GJ 1214はOrkaria、GJ 1214 bはEnaiposhaと命名された[16]。Orkariaは、ケニア・タンザニアの先住民マーサイの若い戦士が儀式の際に塗る赤土のことで、GJ 1214の色を暗示する[16]。Enaiposhaは、マーサイが湖や海など大きな水の集まりを表す言葉で、大量の水の荒々しい一面への畏敬も表す[16]。\n",
      "\n",
      "座標:  17h 15m 18.94s, +4° 57′ 49.7″\n",
      "\n",
      "この項目は、天文学（天文学者を含む）や地球以外の天体に関連した書きかけの項目です。この項目を加筆・訂正などしてくださる協力者を求めています（プロジェクト:天体／Portal:天文学）。\n",
      "\n"
     ]
    }
   ],
   "source": [
    "'''\n",
    "Experiment 10 \n",
    "'''\n",
    "import requests\n",
    "from bs4 import BeautifulSoup\n",
    "def search_wikipedia(query):\n",
    "    try:\n",
    "        url = f\"https://jp.wikipedia.org/wiki/{query.replace(' ', '_')}\"\n",
    "        response = requests.get(url)\n",
    "        response.raise_for_status()  \n",
    "        soup = BeautifulSoup(response.text, 'html.parser')\n",
    "        for paragraph in soup.find_all('p'):\n",
    "            print(paragraph.get_text())\n",
    "        #return summary_paragraph\n",
    "    except requests.exceptions.RequestException as e:\n",
    "        print(f\"An error occurred while fetching data: {e}\")\n",
    "\n",
    "print(\"Welcome to the Information Text Bot\")\n",
    "while True:\n",
    "    query = input(\"Please enter a topic to search for (or type 'exit' to quit): \").strip()\n",
    "    if query.lower() == 'exit':\n",
    "        print(\"Thank you for using Text Bot.Goodbye!\")\n",
    "        break\n",
    "    #result = \n",
    "    search_wikipedia(query)\n",
    "    #print(result)\n",
    "    print()"
   ]
  },
  {
   "cell_type": "code",
   "execution_count": null,
   "id": "b2315599-62fd-459c-a2a5-8f037a429f6c",
   "metadata": {},
   "outputs": [],
   "source": []
  }
 ],
 "metadata": {
  "kernelspec": {
   "display_name": "Python [conda env:base] *",
   "language": "python",
   "name": "conda-base-py"
  },
  "language_info": {
   "codemirror_mode": {
    "name": "ipython",
    "version": 3
   },
   "file_extension": ".py",
   "mimetype": "text/x-python",
   "name": "python",
   "nbconvert_exporter": "python",
   "pygments_lexer": "ipython3",
   "version": "3.12.7"
  }
 },
 "nbformat": 4,
 "nbformat_minor": 5
}
